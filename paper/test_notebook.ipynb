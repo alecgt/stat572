{
 "cells": [
  {
   "cell_type": "markdown",
   "metadata": {},
   "source": [
    "This notebook will contain code for fitting a Gaussian mixture model by EM."
   ]
  },
  {
   "cell_type": "markdown",
   "metadata": {},
   "source": [
    "To do:\n",
    "1. understand data\n",
    "2. figures for Emily?\n",
    "3. write EM code for Gaussian mixture model\n"
   ]
  },
  {
   "cell_type": "markdown",
   "metadata": {},
   "source": [
    "Start by generating and plotting data from a mixture of Gaussians."
   ]
  },
  {
   "cell_type": "code",
   "execution_count": 5,
   "metadata": {
    "collapsed": false
   },
   "outputs": [
    {
     "data": {
      "image/png": "[encoded data removed]",
      "text/plain": [
       "<matplotlib.figure.Figure at 0x1053512b0>"
      ]
     },
     "metadata": {},
     "output_type": "display_data"
    }
   ],
   "source": [
    "%matplotlib inline\n",
    "import numpy as np\n",
    "import matplotlib.pyplot as plt\n",
    "\n",
    "means = [[10,1],[1,10],[3,3]]\n",
    "cov = [[1,0],[0,1]]\n",
    "nclust = len(means)\n",
    "nobs = 20\n",
    "\n",
    "for i in range(nclust):\n",
    "    data = np.random.multivariate_normal(means[i],cov,nobs) # generate data\n",
    "    x = [d[0] for d in data]\n",
    "    y = [d[1] for d in data]\n",
    "\n",
    "    plt.plot(x,y,'o') # plot\n",
    "\n",
    "# data = np.concatenate([np.random.multivariate_normal(mean,cov,10) for mean in means],axis=0)\n",
    "plt.show()"
   ]
  },
  {
   "cell_type": "markdown",
   "metadata": {},
   "source": [
    "Now we'll give an implementation of EM for Gaussian mixture models."
   ]
  }
 ],
 "metadata": {
  "kernelspec": {
   "display_name": "Python 3",
   "language": "python",
   "name": "python3"
  },
  "language_info": {
   "codemirror_mode": {
    "name": "ipython",
    "version": 3
   },
   "file_extension": ".py",
   "mimetype": "text/x-python",
   "name": "python",
   "nbconvert_exporter": "python",
   "pygments_lexer": "ipython3",
   "version": "3.5.1"
  }
 },
 "nbformat": 4,
 "nbformat_minor": 0
}
